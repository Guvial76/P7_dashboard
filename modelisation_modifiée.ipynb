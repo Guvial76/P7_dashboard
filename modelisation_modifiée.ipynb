{
 "cells": [
  {
   "cell_type": "code",
   "execution_count": 1,
   "metadata": {},
   "outputs": [],
   "source": [
    "# Data Manipulation \n",
    "import numpy as np\n",
    "import pandas as pd\n",
    "import gc\n",
    "import time\n",
    "import pickle\n",
    "\n",
    "# Visualization \n",
    "import matplotlib.pyplot as plt\n",
    "import seaborn as sns\n",
    "\n",
    "# Feature Encoding\n",
    "#from sklearn.preprocessing import OneHotEncoder\n",
    "\n",
    "# Machine learning \n",
    "\n",
    "from sklearn import preprocessing, metrics, model_selection, ensemble, pipeline\n",
    "from sklearn.dummy import DummyClassifier\n",
    "from sklearn.linear_model import LogisticRegression, RidgeClassifier\n",
    "from sklearn.tree import DecisionTreeClassifier\n",
    "from sklearn.ensemble import RandomForestClassifier\n",
    "from lightgbm import LGBMClassifier, plot_importance\n",
    "\n",
    "# Grid and Random Search\n",
    "\n",
    "from sklearn.model_selection import GridSearchCV\n",
    "from sklearn.model_selection import RandomizedSearchCV\n",
    "\n",
    "# Metrics\n",
    "#from sklearn.metrics import roc_curve, auc, roc_auc_score, roc_curve #confusion_matrix\n",
    "\n",
    "# Plot the Figures Inline\n",
    "%matplotlib inline"
   ]
  },
  {
   "cell_type": "markdown",
   "metadata": {},
   "source": [
    "# Préparation des données\n",
    "## Nettoyage et ingenierie des donnees"
   ]
  },
  {
   "cell_type": "code",
   "execution_count": 2,
   "metadata": {},
   "outputs": [],
   "source": [
    "# One-hot encoding for categorical columns with get_dummies\n",
    "def one_hot_encoder(df, nan_as_category = True):\n",
    "    original_columns = list(df.columns)\n",
    "    categorical_columns = [col for col in df.columns if df[col].dtype == 'object']\n",
    "    df = pd.get_dummies(df, columns= categorical_columns, dummy_na= nan_as_category)\n",
    "    new_columns = [c for c in df.columns if c not in original_columns]\n",
    "    return df, new_columns"
   ]
  },
  {
   "cell_type": "code",
   "execution_count": 3,
   "metadata": {},
   "outputs": [],
   "source": [
    "# Preprocess application_train.csv and application_test.csv\n",
    "def application_train_test(num_rows = None, nan_as_category = False):\n",
    "    # Read data and merge\n",
    "    df = pd.read_csv('application_train.csv', nrows= num_rows)\n",
    "    test_df = pd.read_csv('application_test.csv', nrows= num_rows)\n",
    "    print(\"Train samples: {}, test samples: {}\".format(len(df), len(test_df)))\n",
    "    df = df.append(test_df)\n",
    "    # Optional: Remove 4 applications with XNA CODE_GENDER (train set)\n",
    "    df = df[df['CODE_GENDER'] != 'XNA']\n",
    "    \n",
    "    # Categorical features with Binary encode (0 or 1; two categories)\n",
    "    for bin_feature in ['CODE_GENDER', 'FLAG_OWN_CAR', 'FLAG_OWN_REALTY']:\n",
    "        df[bin_feature], uniques = pd.factorize(df[bin_feature])\n",
    "    # Categorical features with One-Hot encode\n",
    "    df, cat_cols = one_hot_encoder(df, nan_as_category)\n",
    "    \n",
    "    # NaN values for DAYS_EMPLOYED: 365.243 -> nan\n",
    "    df['DAYS_EMPLOYED'].replace(365243, np.nan, inplace= True)\n",
    "    # Some simple new features (percentages)\n",
    "    df['DAYS_EMPLOYED_PERC'] = df['DAYS_EMPLOYED'] / df['DAYS_BIRTH']\n",
    "    df['INCOME_CREDIT_PERC'] = df['AMT_INCOME_TOTAL'] / df['AMT_CREDIT']\n",
    "    df['INCOME_PER_PERSON'] = df['AMT_INCOME_TOTAL'] / df['CNT_FAM_MEMBERS']\n",
    "    df['ANNUITY_INCOME_PERC'] = df['AMT_ANNUITY'] / df['AMT_INCOME_TOTAL']\n",
    "    df['PAYMENT_RATE'] = df['AMT_ANNUITY'] / df['AMT_CREDIT']\n",
    "    gc.collect()\n",
    "    return df"
   ]
  },
  {
   "cell_type": "code",
   "execution_count": 4,
   "metadata": {},
   "outputs": [],
   "source": [
    "# Preprocess bureau.csv and bureau_balance.csv\n",
    "def bureau_and_balance(num_rows = None, nan_as_category = True):\n",
    "    bureau = pd.read_csv('bureau.csv', nrows = num_rows)\n",
    "    bb = pd.read_csv('bureau_balance.csv', nrows = num_rows)\n",
    "    bb, bb_cat = one_hot_encoder(bb, nan_as_category)\n",
    "    bureau, bureau_cat = one_hot_encoder(bureau, nan_as_category)\n",
    "    \n",
    "    # Bureau balance: Perform aggregations and merge with bureau.csv\n",
    "    bb_aggregations = {'MONTHS_BALANCE': ['min', 'max', 'size']}\n",
    "    for col in bb_cat:\n",
    "        bb_aggregations[col] = ['mean']\n",
    "    bb_agg = bb.groupby('SK_ID_BUREAU').agg(bb_aggregations)\n",
    "    bb_agg.columns = pd.Index([e[0] + \"_\" + e[1].upper() for e in bb_agg.columns.tolist()])\n",
    "    bureau = bureau.join(bb_agg, how='left', on='SK_ID_BUREAU')\n",
    "    bureau.drop(['SK_ID_BUREAU'], axis=1, inplace= True)\n",
    "    del bb, bb_agg\n",
    "    gc.collect()\n",
    "    \n",
    "    # Bureau and bureau_balance numeric features\n",
    "    num_aggregations = {\n",
    "        'DAYS_CREDIT': ['min', 'max', 'mean', 'var'],\n",
    "        'DAYS_CREDIT_ENDDATE': ['min', 'max', 'mean'],\n",
    "        'DAYS_CREDIT_UPDATE': ['mean'],\n",
    "        'CREDIT_DAY_OVERDUE': ['max', 'mean'],\n",
    "        'AMT_CREDIT_MAX_OVERDUE': ['mean'],\n",
    "        'AMT_CREDIT_SUM': ['max', 'mean', 'sum'],\n",
    "        'AMT_CREDIT_SUM_DEBT': ['max', 'mean', 'sum'],\n",
    "        'AMT_CREDIT_SUM_OVERDUE': ['mean'],\n",
    "        'AMT_CREDIT_SUM_LIMIT': ['mean', 'sum'],\n",
    "        'AMT_ANNUITY': ['max', 'mean'],\n",
    "        'CNT_CREDIT_PROLONG': ['sum'],\n",
    "        'MONTHS_BALANCE_MIN': ['min'],\n",
    "        'MONTHS_BALANCE_MAX': ['max'],\n",
    "        'MONTHS_BALANCE_SIZE': ['mean', 'sum']\n",
    "    }\n",
    "    # Bureau and bureau_balance categorical features\n",
    "    cat_aggregations = {}\n",
    "    for cat in bureau_cat: cat_aggregations[cat] = ['mean']\n",
    "    for cat in bb_cat: cat_aggregations[cat + \"_MEAN\"] = ['mean']\n",
    "    \n",
    "    bureau_agg = bureau.groupby('SK_ID_CURR').agg({**num_aggregations, **cat_aggregations})\n",
    "    bureau_agg.columns = pd.Index(['BURO_' + e[0] + \"_\" + e[1].upper() for e in bureau_agg.columns.tolist()])\n",
    "    # Bureau: Active credits - using only numerical aggregations\n",
    "    active = bureau[bureau['CREDIT_ACTIVE_Active'] == 1]\n",
    "    active_agg = active.groupby('SK_ID_CURR').agg(num_aggregations)\n",
    "    active_agg.columns = pd.Index(['ACTIVE_' + e[0] + \"_\" + e[1].upper() for e in active_agg.columns.tolist()])\n",
    "    bureau_agg = bureau_agg.join(active_agg, how='left', on='SK_ID_CURR')\n",
    "    del active, active_agg\n",
    "    gc.collect()\n",
    "    # Bureau: Closed credits - using only numerical aggregations\n",
    "    closed = bureau[bureau['CREDIT_ACTIVE_Closed'] == 1]\n",
    "    closed_agg = closed.groupby('SK_ID_CURR').agg(num_aggregations)\n",
    "    closed_agg.columns = pd.Index(['CLOSED_' + e[0] + \"_\" + e[1].upper() for e in closed_agg.columns.tolist()])\n",
    "    bureau_agg = bureau_agg.join(closed_agg, how='left', on='SK_ID_CURR')\n",
    "    del closed, closed_agg, bureau\n",
    "    gc.collect()\n",
    "    return bureau_agg"
   ]
  },
  {
   "cell_type": "code",
   "execution_count": 5,
   "metadata": {},
   "outputs": [],
   "source": [
    "# Preprocess previous_applications.csv\n",
    "def previous_applications(num_rows = None, nan_as_category = True):\n",
    "    prev = pd.read_csv('previous_application.csv', nrows = num_rows)\n",
    "    prev, cat_cols = one_hot_encoder(prev, nan_as_category= True)\n",
    "    # Days 365.243 values -> nan\n",
    "    prev['DAYS_FIRST_DRAWING'].replace(365243, np.nan, inplace= True)\n",
    "    prev['DAYS_FIRST_DUE'].replace(365243, np.nan, inplace= True)\n",
    "    prev['DAYS_LAST_DUE_1ST_VERSION'].replace(365243, np.nan, inplace= True)\n",
    "    prev['DAYS_LAST_DUE'].replace(365243, np.nan, inplace= True)\n",
    "    prev['DAYS_TERMINATION'].replace(365243, np.nan, inplace= True)\n",
    "    # Add feature: value ask / value received percentage\n",
    "    prev['APP_CREDIT_PERC'] = prev['AMT_APPLICATION'] / prev['AMT_CREDIT']\n",
    "    # Previous applications numeric features\n",
    "    num_aggregations = {\n",
    "        'AMT_ANNUITY': ['min', 'max', 'mean'],\n",
    "        'AMT_APPLICATION': ['min', 'max', 'mean'],\n",
    "        'AMT_CREDIT': ['min', 'max', 'mean'],\n",
    "        'APP_CREDIT_PERC': ['min', 'max', 'mean', 'var'],\n",
    "        'AMT_DOWN_PAYMENT': ['min', 'max', 'mean'],\n",
    "        'AMT_GOODS_PRICE': ['min', 'max', 'mean'],\n",
    "        'HOUR_APPR_PROCESS_START': ['min', 'max', 'mean'],\n",
    "        'RATE_DOWN_PAYMENT': ['min', 'max', 'mean'],\n",
    "        'DAYS_DECISION': ['min', 'max', 'mean'],\n",
    "        'CNT_PAYMENT': ['mean', 'sum'],\n",
    "    }\n",
    "    # Previous applications categorical features\n",
    "    cat_aggregations = {}\n",
    "    for cat in cat_cols:\n",
    "        cat_aggregations[cat] = ['mean']\n",
    "    \n",
    "    prev_agg = prev.groupby('SK_ID_CURR').agg({**num_aggregations, **cat_aggregations})\n",
    "    prev_agg.columns = pd.Index(['PREV_' + e[0] + \"_\" + e[1].upper() for e in prev_agg.columns.tolist()])\n",
    "    # Previous Applications: Approved Applications - only numerical features\n",
    "    approved = prev[prev['NAME_CONTRACT_STATUS_Approved'] == 1]\n",
    "    approved_agg = approved.groupby('SK_ID_CURR').agg(num_aggregations)\n",
    "    approved_agg.columns = pd.Index(['APPROVED_' + e[0] + \"_\" + e[1].upper() for e in approved_agg.columns.tolist()])\n",
    "    prev_agg = prev_agg.join(approved_agg, how='left', on='SK_ID_CURR')\n",
    "    # Previous Applications: Refused Applications - only numerical features\n",
    "    refused = prev[prev['NAME_CONTRACT_STATUS_Refused'] == 1]\n",
    "    refused_agg = refused.groupby('SK_ID_CURR').agg(num_aggregations)\n",
    "    refused_agg.columns = pd.Index(['REFUSED_' + e[0] + \"_\" + e[1].upper() for e in refused_agg.columns.tolist()])\n",
    "    prev_agg = prev_agg.join(refused_agg, how='left', on='SK_ID_CURR')\n",
    "    del refused, refused_agg, approved, approved_agg, prev\n",
    "    gc.collect()\n",
    "    return prev_agg"
   ]
  },
  {
   "cell_type": "code",
   "execution_count": 6,
   "metadata": {},
   "outputs": [],
   "source": [
    "# Preprocess POS_CASH_balance.csv\n",
    "def pos_cash(num_rows = None, nan_as_category = True):\n",
    "    pos = pd.read_csv('POS_CASH_balance.csv', nrows = num_rows)\n",
    "    pos, cat_cols = one_hot_encoder(pos, nan_as_category= True)\n",
    "    # Features\n",
    "    aggregations = {\n",
    "        'MONTHS_BALANCE': ['max', 'mean', 'size'],\n",
    "        'SK_DPD': ['max', 'mean'],\n",
    "        'SK_DPD_DEF': ['max', 'mean']\n",
    "    }\n",
    "    for cat in cat_cols:\n",
    "        aggregations[cat] = ['mean']\n",
    "    \n",
    "    pos_agg = pos.groupby('SK_ID_CURR').agg(aggregations)\n",
    "    pos_agg.columns = pd.Index(['POS_' + e[0] + \"_\" + e[1].upper() for e in pos_agg.columns.tolist()])\n",
    "    # Count pos cash accounts\n",
    "    pos_agg['POS_COUNT'] = pos.groupby('SK_ID_CURR').size()\n",
    "    del pos\n",
    "    gc.collect()\n",
    "    return pos_agg\n"
   ]
  },
  {
   "cell_type": "code",
   "execution_count": 7,
   "metadata": {},
   "outputs": [],
   "source": [
    "# Preprocess installments_payments.csv\n",
    "def installments_payments(num_rows = None, nan_as_category = True):\n",
    "    ins = pd.read_csv('installments_payments.csv', nrows = num_rows)\n",
    "    ins, cat_cols = one_hot_encoder(ins, nan_as_category= True)\n",
    "    # Percentage and difference paid in each installment (amount paid and installment value)\n",
    "    ins['PAYMENT_PERC'] = ins['AMT_PAYMENT'] / ins['AMT_INSTALMENT']\n",
    "    ins['PAYMENT_DIFF'] = ins['AMT_INSTALMENT'] - ins['AMT_PAYMENT']\n",
    "    # Days past due and days before due (no negative values)\n",
    "    ins['DPD'] = ins['DAYS_ENTRY_PAYMENT'] - ins['DAYS_INSTALMENT']\n",
    "    ins['DBD'] = ins['DAYS_INSTALMENT'] - ins['DAYS_ENTRY_PAYMENT']\n",
    "    ins['DPD'] = ins['DPD'].apply(lambda x: x if x > 0 else 0)\n",
    "    ins['DBD'] = ins['DBD'].apply(lambda x: x if x > 0 else 0)\n",
    "    # Features: Perform aggregations\n",
    "    aggregations = {\n",
    "        'NUM_INSTALMENT_VERSION': ['nunique'],\n",
    "        'DPD': ['max', 'mean', 'sum'],\n",
    "        'DBD': ['max', 'mean', 'sum'],\n",
    "        'PAYMENT_PERC': ['max', 'mean', 'sum', 'var'],\n",
    "        'PAYMENT_DIFF': ['max', 'mean', 'sum', 'var'],\n",
    "        'AMT_INSTALMENT': ['max', 'mean', 'sum'],\n",
    "        'AMT_PAYMENT': ['min', 'max', 'mean', 'sum'],\n",
    "        'DAYS_ENTRY_PAYMENT': ['max', 'mean', 'sum']\n",
    "    }\n",
    "    for cat in cat_cols:\n",
    "        aggregations[cat] = ['mean']\n",
    "    ins_agg = ins.groupby('SK_ID_CURR').agg(aggregations)\n",
    "    ins_agg.columns = pd.Index(['INSTAL_' + e[0] + \"_\" + e[1].upper() for e in ins_agg.columns.tolist()])\n",
    "    # Count installments accounts\n",
    "    ins_agg['INSTAL_COUNT'] = ins.groupby('SK_ID_CURR').size()\n",
    "    del ins\n",
    "    gc.collect()\n",
    "    return ins_agg"
   ]
  },
  {
   "cell_type": "code",
   "execution_count": 8,
   "metadata": {},
   "outputs": [],
   "source": [
    "# Preprocess credit_card_balance.csv\n",
    "def credit_card_balance(num_rows = None, nan_as_category = True):\n",
    "    cc = pd.read_csv('credit_card_balance.csv', nrows = num_rows)\n",
    "    cc, cat_cols = one_hot_encoder(cc, nan_as_category= True)\n",
    "    # General aggregations\n",
    "    cc.drop(['SK_ID_PREV'], axis= 1, inplace = True)\n",
    "    cc_agg = cc.groupby('SK_ID_CURR').agg(['min', 'max', 'mean', 'sum', 'var'])\n",
    "    cc_agg.columns = pd.Index(['CC_' + e[0] + \"_\" + e[1].upper() for e in cc_agg.columns.tolist()])\n",
    "    # Count credit card lines\n",
    "    cc_agg['CC_COUNT'] = cc.groupby('SK_ID_CURR').size()\n",
    "    del cc\n",
    "    gc.collect()\n",
    "    return cc_agg"
   ]
  },
  {
   "cell_type": "code",
   "execution_count": 9,
   "metadata": {},
   "outputs": [
    {
     "name": "stdout",
     "output_type": "stream",
     "text": [
      "Train samples: 10000, test samples: 10000\n",
      "Bureau df shape: (2011, 108)\n",
      "Previous applications df shape: (9734, 242)\n",
      "Pos-cash balance df shape: (9494, 15)\n",
      "Installments payments df shape: (8893, 26)\n",
      "Credit card balance df shape: (9520, 131)\n"
     ]
    },
    {
     "data": {
      "text/plain": [
       "0"
      ]
     },
     "execution_count": 9,
     "metadata": {},
     "output_type": "execute_result"
    }
   ],
   "source": [
    "num_rows = 10000\n",
    "\n",
    "df = application_train_test(num_rows)\n",
    "\n",
    "bureau = bureau_and_balance(num_rows)\n",
    "print(\"Bureau df shape:\", bureau.shape)\n",
    "df = df.join(bureau, how='left', on='SK_ID_CURR')\n",
    "del bureau\n",
    "gc.collect()\n",
    "\n",
    "prev = previous_applications(num_rows)\n",
    "print(\"Previous applications df shape:\", prev.shape)\n",
    "df = df.join(prev, how='left', on='SK_ID_CURR')\n",
    "del prev\n",
    "gc.collect()\n",
    "\n",
    "pos = pos_cash(num_rows)\n",
    "print(\"Pos-cash balance df shape:\", pos.shape)\n",
    "df = df.join(pos, how='left', on='SK_ID_CURR')\n",
    "del pos\n",
    "gc.collect()\n",
    "\n",
    "ins = installments_payments(num_rows)\n",
    "print(\"Installments payments df shape:\", ins.shape)\n",
    "df = df.join(ins, how='left', on='SK_ID_CURR')\n",
    "del ins\n",
    "gc.collect()\n",
    "\n",
    "cc = credit_card_balance(num_rows)\n",
    "print(\"Credit card balance df shape:\", cc.shape)\n",
    "df = df.join(cc, how='left', on='SK_ID_CURR')\n",
    "del cc\n",
    "gc.collect()"
   ]
  },
  {
   "cell_type": "markdown",
   "metadata": {},
   "source": [
    "## Imputation des valeurs manquantes"
   ]
  },
  {
   "cell_type": "code",
   "execution_count": 10,
   "metadata": {},
   "outputs": [],
   "source": [
    "# Removing columns with no information\n",
    "y = df['TARGET']\n",
    "X = df.drop('TARGET', axis =1)\n",
    "X = X.dropna(axis=1, how='all')\n",
    "\n",
    "# Processing infinite values \n",
    "X = X.replace([-np.inf, np.inf], np.nan)\n",
    "\n",
    "# Imputing columns with partial information\n",
    "X = X.fillna(X.mean())\n",
    "df = pd.concat([y, X], axis=1)"
   ]
  },
  {
   "cell_type": "markdown",
   "metadata": {},
   "source": [
    "## Processing des données"
   ]
  },
  {
   "cell_type": "code",
   "execution_count": 11,
   "metadata": {},
   "outputs": [],
   "source": [
    "# Splitting the Training and Test data sets\n",
    "df_train = df[df['TARGET'].notnull()]\n",
    "df_y_train =  df_train['TARGET']\n",
    "df_X_train = df_train.drop('TARGET', axis =1)\n",
    "\n",
    "# Preprocessing the Training data\n",
    "std_scale = preprocessing.StandardScaler().fit(df_X_train) \n",
    "\n",
    "X_train_std = std_scale.transform(df_X_train)\n",
    "\n",
    "# Splitting the processed Training data into train and test data sets\n",
    "X_train, X_test, y_train, y_test = model_selection.train_test_split(X_train_std, \n",
    "                                                                    df_y_train, \n",
    "                                                                    stratify = df_y_train,\n",
    "                                                                    test_size = 0.3)\n",
    "\n",
    "# Creating 5 Stratified Folds\n",
    "skf = model_selection.StratifiedKFold(n_splits=5)"
   ]
  },
  {
   "cell_type": "markdown",
   "metadata": {},
   "source": [
    "# Modelisation\n",
    "* Baseline = dummyClassifier\n",
    "* Logistic Regression\n",
    "* Gaussian Naive Bayes\n",
    "* Decision Tree\n",
    "* Random Forest\n",
    "* LightGBM"
   ]
  },
  {
   "cell_type": "code",
   "execution_count": 14,
   "metadata": {},
   "outputs": [],
   "source": [
    "# Function that runs the requested algorithm and returns the accuracy metrics for RandomizedSearch\n",
    "\n",
    "def fit_rs_ml_algo(algo, param_dist, X_train, y_train, X_test, y_test, cv):\n",
    "    \n",
    "    start_time = time.time()\n",
    "    \n",
    "    model = model_selection.RandomizedSearchCV(algo,\n",
    "                                               n_jobs=-1,\n",
    "                                               param_distributions=param_dist,\n",
    "                                               n_iter=10,\n",
    "                                               cv=cv,\n",
    "                                               scoring = 'roc_auc')\n",
    "    \n",
    "    model.fit(X_train, y_train)\n",
    "    \n",
    "    best_param = model.best_params_\n",
    "    \n",
    "    probs = model.predict_proba(X_test)[:,1]\n",
    "    \n",
    "    auc = round(model.best_score_ * 100, 1)\n",
    "    \n",
    "    algo_time = round((time.time() - start_time), 1)\n",
    "    \n",
    "    return best_param, auc, probs, algo_time"
   ]
  },
  {
   "cell_type": "markdown",
   "metadata": {},
   "source": [
    "## Baseline"
   ]
  },
  {
   "cell_type": "code",
   "execution_count": 15,
   "metadata": {},
   "outputs": [
    {
     "name": "stderr",
     "output_type": "stream",
     "text": [
      "/opt/anaconda3/lib/python3.7/site-packages/sklearn/model_selection/_search.py:289: UserWarning: The total space of parameters 3 is smaller than n_iter=10. Running 3 iterations. For exhaustive searches, use GridSearchCV.\n",
      "  % (grid_size, self.n_iter, grid_size), UserWarning)\n"
     ]
    },
    {
     "name": "stdout",
     "output_type": "stream",
     "text": [
      "Best parameter: {'strategy': 'stratified'}\n",
      "AUC:            50.4\n",
      "Run Time:       0.9 seconds\n"
     ]
    },
    {
     "name": "stderr",
     "output_type": "stream",
     "text": [
      "/opt/anaconda3/lib/python3.7/site-packages/sklearn/model_selection/_search.py:921: UserWarning: One or more of the test scores are non-finite: [0.50419199 0.5               nan]\n",
      "  category=UserWarning\n"
     ]
    }
   ],
   "source": [
    "# Dummy Classifier\n",
    "\n",
    "param_dist = {'strategy':['stratified','most_frequent','constant']}\n",
    "\n",
    "best_param_dum, auc_dum, probs_dum, dum_time = fit_rs_ml_algo(DummyClassifier(strategy='most_frequent'),\n",
    "                                                                                            param_dist,\n",
    "                                                                                            X_train,\n",
    "                                                                                            y_train,\n",
    "                                                                                            X_test,\n",
    "                                                                                            y_test,\n",
    "                                                                                            skf)\n",
    "print('Best parameter: %s' % best_param_dum)\n",
    "print('AUC:            %s' % auc_dum)\n",
    "print('Run Time:       %s' % dum_time, 'seconds')"
   ]
  },
  {
   "cell_type": "markdown",
   "metadata": {},
   "source": [
    "## Regression Logistique"
   ]
  },
  {
   "cell_type": "code",
   "execution_count": 19,
   "metadata": {},
   "outputs": [
    {
     "name": "stderr",
     "output_type": "stream",
     "text": [
      "/opt/anaconda3/lib/python3.7/site-packages/sklearn/model_selection/_search.py:921: UserWarning: One or more of the test scores are non-finite: [0.70251426 0.6767812         nan 0.69965424 0.68289017        nan\n",
      "        nan        nan        nan 0.71181329]\n",
      "  category=UserWarning\n"
     ]
    },
    {
     "name": "stdout",
     "output_type": "stream",
     "text": [
      "Best parameter: {'penalty': 'l2', 'C': 0.0001}\n",
      "AUC:            71.2\n",
      "Run Time:       9.7 seconds\n"
     ]
    }
   ],
   "source": [
    "# Logistic Regression\n",
    "param_dist = {'penalty': ['l2', 'l1'], \n",
    "              'C': np.logspace(-5, 5, 11)}\n",
    "\n",
    "best_param_reg, auc_reg, probs_reg, reg_time = fit_rs_ml_algo(LogisticRegression(n_jobs = -1, class_weight='balanced'),\n",
    "                                                                                            param_dist,\n",
    "                                                                                            X_train,\n",
    "                                                                                            y_train,\n",
    "                                                                                            X_test,\n",
    "                                                                                            y_test,\n",
    "                                                                                            skf)\n",
    "print('Best parameter: %s' % best_param_reg)\n",
    "print('AUC:            %s' % auc_reg)\n",
    "print('Run Time:       %s' % reg_time, 'seconds')"
   ]
  },
  {
   "cell_type": "markdown",
   "metadata": {},
   "source": [
    "## Arbre de décision"
   ]
  },
  {
   "cell_type": "code",
   "execution_count": 20,
   "metadata": {
    "scrolled": true
   },
   "outputs": [
    {
     "name": "stdout",
     "output_type": "stream",
     "text": [
      "Best parameter: {'max_depth': 5, 'criterion': 'entropy'}\n",
      "AUC:            66.2\n",
      "Run Time:       4.1 seconds\n"
     ]
    }
   ],
   "source": [
    "# Decision Tree Classifier\n",
    "param_dist = {'max_depth': [2, 5, 10, 20, 50, 100],\n",
    "             'criterion': ['gini', 'entropy']}\n",
    "\n",
    "best_param_dtc, auc_dtc, probs_dtc, dtc_time = fit_rs_ml_algo(DecisionTreeClassifier(class_weight='balanced'),\n",
    "                                                                                            param_dist,\n",
    "                                                                                            X_train,\n",
    "                                                                                            y_train,\n",
    "                                                                                            X_test,\n",
    "                                                                                            y_test,\n",
    "                                                                                            skf)\n",
    "print('Best parameter: %s' % best_param_dtc)\n",
    "print('AUC:            %s' % auc_dtc)\n",
    "print('Run Time:       %s' % dtc_time, 'seconds')"
   ]
  },
  {
   "cell_type": "markdown",
   "metadata": {},
   "source": [
    "## Foret alleatoire"
   ]
  },
  {
   "cell_type": "code",
   "execution_count": 21,
   "metadata": {},
   "outputs": [
    {
     "name": "stdout",
     "output_type": "stream",
     "text": [
      "Best parameter: {'max_depth': 100, 'criterion': 'gini'}\n",
      "AUC:            69.6\n",
      "Run Time:       14.9 seconds\n"
     ]
    }
   ],
   "source": [
    "# Random Forest Classifier\n",
    "param_dist = {'max_depth': [2, 5, 10, 20, 50, 100],\n",
    "             'criterion': ['gini', 'entropy']}\n",
    "\n",
    "best_param_rfc, auc_rfc, probs_rfc, rfc_time = fit_rs_ml_algo(RandomForestClassifier(class_weight='balanced'),\n",
    "                                                                                            param_dist,\n",
    "                                                                                            X_train,\n",
    "                                                                                            y_train,\n",
    "                                                                                            X_test,\n",
    "                                                                                            y_test,\n",
    "                                                                                            skf)\n",
    "print('Best parameter: %s' % best_param_rfc)\n",
    "print('AUC:            %s' % auc_rfc)\n",
    "print('Run Time:       %s' % rfc_time, 'seconds')"
   ]
  },
  {
   "cell_type": "markdown",
   "metadata": {},
   "source": [
    "## Light GBM"
   ]
  },
  {
   "cell_type": "code",
   "execution_count": 22,
   "metadata": {
    "scrolled": false
   },
   "outputs": [
    {
     "name": "stderr",
     "output_type": "stream",
     "text": [
      "/opt/anaconda3/lib/python3.7/site-packages/joblib/externals/loky/process_executor.py:691: UserWarning: A worker stopped while some jobs were given to the executor. This can be caused by a too short worker timeout or by a memory leak.\n",
      "  \"timeout or by a memory leak.\", UserWarning\n"
     ]
    },
    {
     "name": "stdout",
     "output_type": "stream",
     "text": [
      "Best parameter: {'num_leaves': 2, 'max_depth': 10}\n",
      "AUC:            75.0\n",
      "Run Time:       6.1 seconds\n"
     ]
    }
   ],
   "source": [
    "# Light GBM\n",
    "\n",
    "param_dist = {'max_depth': [2, 5, 10, 20, 50, 100],\n",
    "             'num_leaves': [2, 5, 10, 20, 50, 100]}\n",
    "\n",
    "best_param_lgb, auc_lgb, probs_lgb, lgb_time = fit_rs_ml_algo(LGBMClassifier(scale_pos_weight=92/8),\n",
    "                                                                                            param_dist,\n",
    "                                                                                            X_train,\n",
    "                                                                                            y_train,\n",
    "                                                                                            X_test,\n",
    "                                                                                            y_test,\n",
    "                                                                                            skf)\n",
    "print('Best parameter: %s' % best_param_lgb)\n",
    "print('AUC:            %s' % auc_lgb)\n",
    "print('Run Time:       %s' % lgb_time, 'seconds')"
   ]
  },
  {
   "cell_type": "markdown",
   "metadata": {},
   "source": [
    "## Classement des résultats"
   ]
  },
  {
   "cell_type": "code",
   "execution_count": 23,
   "metadata": {},
   "outputs": [
    {
     "data": {
      "text/html": [
       "<div>\n",
       "<style scoped>\n",
       "    .dataframe tbody tr th:only-of-type {\n",
       "        vertical-align: middle;\n",
       "    }\n",
       "\n",
       "    .dataframe tbody tr th {\n",
       "        vertical-align: top;\n",
       "    }\n",
       "\n",
       "    .dataframe thead th {\n",
       "        text-align: right;\n",
       "    }\n",
       "</style>\n",
       "<table border=\"1\" class=\"dataframe\">\n",
       "  <thead>\n",
       "    <tr style=\"text-align: right;\">\n",
       "      <th></th>\n",
       "      <th>Model</th>\n",
       "      <th>AUC score</th>\n",
       "      <th>Run Time (in s.)</th>\n",
       "    </tr>\n",
       "  </thead>\n",
       "  <tbody>\n",
       "    <tr>\n",
       "      <th>4</th>\n",
       "      <td>Light GBM</td>\n",
       "      <td>75.0</td>\n",
       "      <td>6.1</td>\n",
       "    </tr>\n",
       "    <tr>\n",
       "      <th>1</th>\n",
       "      <td>Logistic Regression</td>\n",
       "      <td>71.2</td>\n",
       "      <td>9.7</td>\n",
       "    </tr>\n",
       "    <tr>\n",
       "      <th>3</th>\n",
       "      <td>Random Forest</td>\n",
       "      <td>69.6</td>\n",
       "      <td>14.9</td>\n",
       "    </tr>\n",
       "    <tr>\n",
       "      <th>2</th>\n",
       "      <td>Decision Tree</td>\n",
       "      <td>66.2</td>\n",
       "      <td>4.1</td>\n",
       "    </tr>\n",
       "    <tr>\n",
       "      <th>0</th>\n",
       "      <td>Dummy</td>\n",
       "      <td>50.4</td>\n",
       "      <td>0.9</td>\n",
       "    </tr>\n",
       "  </tbody>\n",
       "</table>\n",
       "</div>"
      ],
      "text/plain": [
       "                 Model  AUC score  Run Time (in s.)\n",
       "4            Light GBM       75.0               6.1\n",
       "1  Logistic Regression       71.2               9.7\n",
       "3        Random Forest       69.6              14.9\n",
       "2        Decision Tree       66.2               4.1\n",
       "0                Dummy       50.4               0.9"
      ]
     },
     "execution_count": 23,
     "metadata": {},
     "output_type": "execute_result"
    }
   ],
   "source": [
    "models = pd.DataFrame({\n",
    "    'Model': ['Dummy',\n",
    "              'Logistic Regression',\n",
    "              'Decision Tree',\n",
    "              'Random Forest', \n",
    "              'Light GBM'\n",
    "             ],\n",
    "    'AUC score': [auc_dum,\n",
    "                  auc_reg,\n",
    "                  auc_dtc,\n",
    "                  auc_rfc,\n",
    "                  auc_lgb\n",
    "                 ],\n",
    "    'Run Time (in s.)': [dum_time,\n",
    "                  reg_time,\n",
    "                  dtc_time,\n",
    "                  rfc_time,\n",
    "                  lgb_time\n",
    "                ]\n",
    "    })\n",
    "models.sort_values(by='AUC score', ascending=False)"
   ]
  },
  {
   "cell_type": "code",
   "execution_count": 24,
   "metadata": {
    "scrolled": false
   },
   "outputs": [
    {
     "data": {
      "image/png": "[encoded data removed]",
      "text/plain": [
       "<Figure size 720x720 with 1 Axes>"
      ]
     },
     "metadata": {},
     "output_type": "display_data"
    }
   ],
   "source": [
    "plt.style.use('seaborn-whitegrid')\n",
    "fig = plt.figure(figsize=(10,10)) \n",
    "\n",
    "models = ['Dummy',\n",
    "          'Logistic Regression',\n",
    "          'Decision Tree',\n",
    "          'Random Forest',\n",
    "          'Light GBM']\n",
    "\n",
    "probs = [probs_dum,\n",
    "         probs_reg,\n",
    "         probs_dtc,\n",
    "         probs_rfc,\n",
    "         probs_lgb]\n",
    "\n",
    "\n",
    "colors = [\n",
    "    'grey',\n",
    "    'green',\n",
    "    'orange',\n",
    "    'red',\n",
    "    'cyan']\n",
    "    \n",
    "plt.title('Receiver Operating Characteristic')\n",
    "plt.plot([0, 1], [0, 1],'r--')\n",
    "plt.xlim([-0.01, 1.01])\n",
    "plt.ylim([-0.01, 1.01])\n",
    "plt.ylabel('True Positive Rate')\n",
    "plt.xlabel('False Positive Rate')\n",
    "\n",
    "def plot_roc_curves(y_test, prob, model):\n",
    "    fpr, tpr, threshold = metrics.roc_curve(y_test, prob)\n",
    "    roc_auc = metrics.auc(fpr, tpr)\n",
    "    plt.plot(fpr, tpr, 'b', label = model + ' AUC = %0.2f' % roc_auc, color=colors[i])\n",
    "    plt.legend(loc = 'lower right')\n",
    "    \n",
    "for i, model in list(enumerate(models)):\n",
    "    plot_roc_curves(y_test, probs[i], models[i])\n",
    "    \n",
    "plt.show()"
   ]
  },
  {
   "cell_type": "markdown",
   "metadata": {},
   "source": [
    "# Passage à l'échelle\n",
    "## Reprise de l'entrainement sur tout application_train"
   ]
  },
  {
   "cell_type": "code",
   "execution_count": 25,
   "metadata": {},
   "outputs": [
    {
     "name": "stdout",
     "output_type": "stream",
     "text": [
      "Train samples: 307511, test samples: 48744\n",
      "Bureau df shape: (305811, 116)\n",
      "Previous applications df shape: (338857, 249)\n",
      "Pos-cash balance df shape: (337252, 18)\n",
      "Installments payments df shape: (339587, 26)\n",
      "Credit card balance df shape: (103558, 141)\n"
     ]
    },
    {
     "data": {
      "text/plain": [
       "0"
      ]
     },
     "execution_count": 25,
     "metadata": {},
     "output_type": "execute_result"
    }
   ],
   "source": [
    "num_rows = None\n",
    "\n",
    "df = application_train_test(num_rows)\n",
    "\n",
    "bureau = bureau_and_balance(num_rows)\n",
    "print(\"Bureau df shape:\", bureau.shape)\n",
    "df = df.join(bureau, how='left', on='SK_ID_CURR')\n",
    "del bureau\n",
    "gc.collect()\n",
    "\n",
    "prev = previous_applications(num_rows)\n",
    "print(\"Previous applications df shape:\", prev.shape)\n",
    "df = df.join(prev, how='left', on='SK_ID_CURR')\n",
    "del prev\n",
    "gc.collect()\n",
    "\n",
    "pos = pos_cash(num_rows)\n",
    "print(\"Pos-cash balance df shape:\", pos.shape)\n",
    "df = df.join(pos, how='left', on='SK_ID_CURR')\n",
    "del pos\n",
    "gc.collect()\n",
    "\n",
    "ins = installments_payments(num_rows)\n",
    "print(\"Installments payments df shape:\", ins.shape)\n",
    "df = df.join(ins, how='left', on='SK_ID_CURR')\n",
    "del ins\n",
    "gc.collect()\n",
    "\n",
    "cc = credit_card_balance(num_rows)\n",
    "print(\"Credit card balance df shape:\", cc.shape)\n",
    "df = df.join(cc, how='left', on='SK_ID_CURR')\n",
    "del cc\n",
    "gc.collect()"
   ]
  },
  {
   "cell_type": "code",
   "execution_count": 26,
   "metadata": {},
   "outputs": [],
   "source": [
    "# Removing columns with no information\n",
    "y = df['TARGET']\n",
    "X = df.drop('TARGET', axis =1)\n",
    "X = X.dropna(axis=1, how='all')\n",
    "\n",
    "# Processing infinite values \n",
    "X = X.replace([-np.inf, np.inf], np.nan)\n",
    "\n",
    "# Imputing columns with partial information\n",
    "X = X.fillna(X.mean())\n",
    "df = pd.concat([y, X], axis=1)\n",
    "\n",
    "# Splitting the Training and Test data sets\n",
    "df_train = df[df['TARGET'].notnull()]\n",
    "df_test = df[df['TARGET'].isnull()]\n",
    "df_y_train =  df_train['TARGET']\n",
    "df_X_train = df_train.drop('TARGET', axis =1)\n",
    "\n",
    "# Preprocessing the Training data\n",
    "std_scale = preprocessing.StandardScaler().fit(df_X_train) \n",
    "\n",
    "X_train_std = std_scale.transform(df_X_train)\n",
    "\n",
    "# Splitting the processed Training data into train and test data sets\n",
    "X_train, X_test, y_train, y_test = model_selection.train_test_split(X_train_std, \n",
    "                                                                    df_y_train, \n",
    "                                                                    stratify = df_y_train,\n",
    "                                                                    test_size = 0.3)\n",
    "\n",
    "# Creating 5 Stratified Folds\n",
    "skf = model_selection.StratifiedKFold(n_splits=5)"
   ]
  },
  {
   "cell_type": "markdown",
   "metadata": {},
   "source": [
    "## Export des données transformées"
   ]
  },
  {
   "cell_type": "code",
   "execution_count": 22,
   "metadata": {},
   "outputs": [],
   "source": [
    "# Export Processed Train and Test data to csv datafiles\n",
    "df_train.to_csv(r'train_data.csv')\n",
    "df_test.to_csv(r'test_data.csv')"
   ]
  },
  {
   "cell_type": "markdown",
   "metadata": {},
   "source": [
    "## Optimisation"
   ]
  },
  {
   "cell_type": "code",
   "execution_count": 27,
   "metadata": {},
   "outputs": [],
   "source": [
    "# Function that runs the requested algorithm and returns the accuracy metrics for GridSearch\n",
    "\n",
    "def fit_gs_ml_algo(algo, param_grid, X_train, y_train, X_test, y_test, cv):\n",
    "    \n",
    "    start_time = time.time()\n",
    "    \n",
    "    model = model_selection.GridSearchCV(algo,\n",
    "                                         param_grid,\n",
    "                                         cv = cv,\n",
    "                                         scoring = 'roc_auc')\n",
    "    \n",
    "    model.fit(X_train, y_train)\n",
    "    \n",
    "    best_param = model.best_params_\n",
    "    \n",
    "    probs = model.predict_proba(X_test)[:,1]\n",
    "    \n",
    "    auc = round(model.best_score_ * 100, 2)\n",
    "\n",
    "    algo_time = round((time.time() - start_time), 1)\n",
    "    \n",
    "    return best_param, auc, probs, algo_time"
   ]
  },
  {
   "cell_type": "code",
   "execution_count": 29,
   "metadata": {},
   "outputs": [
    {
     "name": "stdout",
     "output_type": "stream",
     "text": [
      "Best parameter: {'max_depth': 20, 'num_leaves': 20}\n",
      "AUC:            77.86\n",
      "Run Time:       2130.8 seconds\n"
     ]
    }
   ],
   "source": [
    "# Optimised Light GBM - round #1\n",
    "param_grid = {'max_depth': [2, 5, 10, 20, 50, 100],\n",
    "             'num_leaves': [2, 5, 10, 20, 50, 100],\n",
    "             }\n",
    "\n",
    "best_param_opt1, auc_opt1, probs_opt1, opt1_time = fit_gs_ml_algo(LGBMClassifier(scale_pos_weight=92/8),\n",
    "                                                                  param_grid,\n",
    "                                                                  X_train,\n",
    "                                                                  y_train,\n",
    "                                                                  X_test,\n",
    "                                                                  y_test,\n",
    "                                                                  skf)\n",
    "print('Best parameter: %s' % best_param_opt1)\n",
    "print('AUC:            %s' % auc_opt1)\n",
    "print('Run Time:       %s' % opt1_time, 'seconds')"
   ]
  },
  {
   "cell_type": "code",
   "execution_count": 33,
   "metadata": {},
   "outputs": [
    {
     "name": "stdout",
     "output_type": "stream",
     "text": [
      "Best parameter: {'max_depth': 15, 'num_leaves': 26}\n",
      "AUC:            77.86\n",
      "Run Time:       1670.5 seconds\n"
     ]
    }
   ],
   "source": [
    "# Optimised Light GBM - round #2\n",
    "param_grid = {'max_depth': [11, 15, 20, 26, 33],\n",
    "             'num_leaves': [11, 15, 20, 26, 33]\n",
    "             }\n",
    "\n",
    "best_param_opt2, auc_opt2, probs_opt2, opt2_time = fit_gs_ml_algo(LGBMClassifier(scale_pos_weight=92/8),\n",
    "                                                                  param_grid,\n",
    "                                                                  X_train,\n",
    "                                                                  y_train,\n",
    "                                                                  X_test,\n",
    "                                                                  y_test,\n",
    "                                                                  skf)\n",
    "print('Best parameter: %s' % best_param_opt2)\n",
    "print('AUC:            %s' % auc_opt2)\n",
    "print('Run Time:       %s' % opt2_time, 'seconds')"
   ]
  },
  {
   "cell_type": "code",
   "execution_count": 34,
   "metadata": {},
   "outputs": [
    {
     "data": {
      "text/html": [
       "<div>\n",
       "<style scoped>\n",
       "    .dataframe tbody tr th:only-of-type {\n",
       "        vertical-align: middle;\n",
       "    }\n",
       "\n",
       "    .dataframe tbody tr th {\n",
       "        vertical-align: top;\n",
       "    }\n",
       "\n",
       "    .dataframe thead th {\n",
       "        text-align: right;\n",
       "    }\n",
       "</style>\n",
       "<table border=\"1\" class=\"dataframe\">\n",
       "  <thead>\n",
       "    <tr style=\"text-align: right;\">\n",
       "      <th></th>\n",
       "      <th>Model</th>\n",
       "      <th>AUC</th>\n",
       "      <th>Time</th>\n",
       "    </tr>\n",
       "  </thead>\n",
       "  <tbody>\n",
       "    <tr>\n",
       "      <th>1</th>\n",
       "      <td>Full GsCV1</td>\n",
       "      <td>77.86</td>\n",
       "      <td>2130.8</td>\n",
       "    </tr>\n",
       "    <tr>\n",
       "      <th>2</th>\n",
       "      <td>Full GsCV2</td>\n",
       "      <td>77.86</td>\n",
       "      <td>1670.5</td>\n",
       "    </tr>\n",
       "    <tr>\n",
       "      <th>0</th>\n",
       "      <td>Sample RdCV</td>\n",
       "      <td>75.00</td>\n",
       "      <td>6.1</td>\n",
       "    </tr>\n",
       "  </tbody>\n",
       "</table>\n",
       "</div>"
      ],
      "text/plain": [
       "         Model    AUC    Time\n",
       "1   Full GsCV1  77.86  2130.8\n",
       "2   Full GsCV2  77.86  1670.5\n",
       "0  Sample RdCV  75.00     6.1"
      ]
     },
     "execution_count": 34,
     "metadata": {},
     "output_type": "execute_result"
    }
   ],
   "source": [
    "models = pd.DataFrame({\n",
    "    'Model': [ 'Sample RdCV', 'Full GsCV1', 'Full GsCV2'],\n",
    "    'AUC': [auc_lgb, auc_opt1, auc_opt2],\n",
    "    'Time': [lgb_time, opt1_time, opt2_time]\n",
    "    })\n",
    "models.sort_values(by='AUC', ascending=False)"
   ]
  },
  {
   "cell_type": "markdown",
   "metadata": {},
   "source": [
    "## Calcul du seuil"
   ]
  },
  {
   "cell_type": "code",
   "execution_count": 35,
   "metadata": {},
   "outputs": [
    {
     "data": {
      "image/png": "[encoded data removed]",
      "text/plain": [
       "<Figure size 360x360 with 1 Axes>"
      ]
     },
     "metadata": {},
     "output_type": "display_data"
    }
   ],
   "source": [
    "fpr_opt, tpr_opt, threshold_opt = metrics.roc_curve(y_test, probs_opt2)\n",
    "\n",
    "plt.style.use('seaborn-whitegrid')\n",
    "fig = plt.figure(figsize=(5,5)) \n",
    "plt.title('Receiver Operating Characteristic')\n",
    "plt.plot([0, 1], [0, 1],'b--')\n",
    "plt.xlim([-0.01, 1.01])\n",
    "plt.ylim([-0.01, 1.01])\n",
    "plt.ylabel('True Positive Rate')\n",
    "plt.xlabel('False Positive Rate')\n",
    "plt.plot(fpr_opt, tpr_opt, 'b')\n",
    "plt.show()"
   ]
  },
  {
   "cell_type": "code",
   "execution_count": 36,
   "metadata": {},
   "outputs": [],
   "source": [
    "# ordering classes by threshold\n",
    "order = np.argsort(probs_opt2)\n",
    "y_true = np.asarray(y_test)[order]\n",
    "y_score = probs_opt2"
   ]
  },
  {
   "cell_type": "code",
   "execution_count": 37,
   "metadata": {},
   "outputs": [],
   "source": [
    "# The thresholds to consider are just the values of score, and 0 (accept everything)\n",
    "thresholds = np.insert(y_score[order],0,0)\n",
    "# TP = [sum(y_true)] # Number of True Positives (For Threshold = 0 => We accept everything => TP[0] = # of postive in true y)\n",
    "# FP = [sum(1-y_true)] # Number of True Positives (For Threshold = 0 => We accept everything => TP[0] = # of postive in true y)\n",
    "TN = [0] # Number of True Negatives (For Threshold = 0 => We accept everything => we don't have negatives !)\n",
    "FN = [0] # Number of True Negatives (For Threshold = 0 => We accept everything => we don't have negatives !)\n",
    "\n",
    "for i in range(1, thresholds.size) : # \"-1\" because the last threshold\n",
    "    # At this step, we stop predicting y_score[i-1] as True, but as False.... what y_true value say about it ?\n",
    "    # if y_true was True, that step was a mistake !\n",
    "#    TP.append(TP[-1] - int(y_true[i-1]))\n",
    "    FN.append(FN[-1] + int(y_true[i-1]))\n",
    "    # if y_true was False, that step was good !\n",
    "#    FP.append(FP[-1] - int(1-y_true[i-1]))\n",
    "    TN.append(TN[-1] + int(1-y_true[i-1]))\n",
    "\n",
    "#TP = np.asarray(TP, dtype=np.int_)\n",
    "#FP = np.asarray(FP, dtype=np.int_)\n",
    "TN = np.asarray(TN, dtype=np.int_)\n",
    "FN = np.asarray(FN, dtype=np.int_)\n",
    "\n",
    "margins = 10*TN - 100*FN"
   ]
  },
  {
   "cell_type": "code",
   "execution_count": 38,
   "metadata": {},
   "outputs": [
    {
     "data": {
      "image/png": "[encoded data removed]",
      "text/plain": [
       "<Figure size 360x360 with 1 Axes>"
      ]
     },
     "metadata": {},
     "output_type": "display_data"
    }
   ],
   "source": [
    "plt.style.use('seaborn-whitegrid')\n",
    "fig = plt.figure(figsize=(5,5)) \n",
    "\n",
    "plt.plot(thresholds, margins, 'b')\n",
    "plt.ylabel('Margin (in €)')\n",
    "plt.xlabel('Prediction Threshold')    \n",
    "plt.show()"
   ]
  },
  {
   "cell_type": "code",
   "execution_count": 39,
   "metadata": {},
   "outputs": [
    {
     "name": "stdout",
     "output_type": "stream",
     "text": [
      "Optimal Threshold: 0.53\n"
     ]
    }
   ],
   "source": [
    "max_margins = np.argmax(margins)\n",
    "print('Optimal Threshold:', thresholds[max_margins].round(3))"
   ]
  },
  {
   "cell_type": "markdown",
   "metadata": {},
   "source": [
    "## Impact des variables dans la prediction"
   ]
  },
  {
   "cell_type": "code",
   "execution_count": 40,
   "metadata": {},
   "outputs": [],
   "source": [
    "import shap"
   ]
  },
  {
   "cell_type": "code",
   "execution_count": 42,
   "metadata": {},
   "outputs": [
    {
     "data": {
      "text/plain": [
       "LGBMClassifier(max_depth=15, num_leaves=26, scale_pos_weight=11.5)"
      ]
     },
     "execution_count": 42,
     "metadata": {},
     "output_type": "execute_result"
    }
   ],
   "source": [
    "model_opt = LGBMClassifier(max_depth= 15, \n",
    "                           num_leaves= 26,\n",
    "                           scale_pos_weight=92/8)\n",
    "\n",
    "model_opt.fit(X_train, y_train)"
   ]
  },
  {
   "cell_type": "code",
   "execution_count": 43,
   "metadata": {},
   "outputs": [
    {
     "name": "stderr",
     "output_type": "stream",
     "text": [
      "LightGBM binary classifier with TreeExplainer shap values output has changed to a list of ndarray\n"
     ]
    }
   ],
   "source": [
    "explainer = shap.TreeExplainer(model_opt)\n",
    "shap_values = explainer.shap_values(X_train)"
   ]
  },
  {
   "cell_type": "code",
   "execution_count": 48,
   "metadata": {},
   "outputs": [
    {
     "data": {
      "image/png": "[encoded data removed]",
      "text/plain": [
       "<Figure size 576x684 with 1 Axes>"
      ]
     },
     "metadata": {},
     "output_type": "display_data"
    }
   ],
   "source": [
    "shap.summary_plot(shap_values, X)"
   ]
  },
  {
   "cell_type": "markdown",
   "metadata": {},
   "source": [
    "# Exports du modele et du seuil"
   ]
  },
  {
   "cell_type": "code",
   "execution_count": 49,
   "metadata": {},
   "outputs": [
    {
     "data": {
      "text/plain": [
       "['trained_model_threshold.joblib']"
      ]
     },
     "execution_count": 49,
     "metadata": {},
     "output_type": "execute_result"
    }
   ],
   "source": [
    "# export optimized model and threshold\n",
    "\n",
    "import joblib\n",
    "\n",
    "joblib.dump(model_opt,\n",
    "            'trained_model.joblib')\n",
    "\n",
    "joblib.dump(thresholds[max_margins],\n",
    "            'trained_model_threshold.joblib')"
   ]
  }
 ],
 "metadata": {
  "kernelspec": {
   "display_name": "Python 3",
   "language": "python",
   "name": "python3"
  },
  "language_info": {
   "codemirror_mode": {
    "name": "ipython",
    "version": 3
   },
   "file_extension": ".py",
   "mimetype": "text/x-python",
   "name": "python",
   "nbconvert_exporter": "python",
   "pygments_lexer": "ipython3",
   "version": "3.7.10"
  }
 },
 "nbformat": 4,
 "nbformat_minor": 4
}
